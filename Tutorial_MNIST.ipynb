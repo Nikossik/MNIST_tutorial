{
  "nbformat": 4,
  "nbformat_minor": 0,
  "metadata": {
    "kernelspec": {
      "display_name": "Python 3",
      "language": "python",
      "name": "python3"
    },
    "language_info": {
      "codemirror_mode": {
        "name": "ipython",
        "version": 3
      },
      "file_extension": ".py",
      "mimetype": "text/x-python",
      "name": "python",
      "nbconvert_exporter": "python",
      "pygments_lexer": "ipython3",
      "version": "3.9.5"
    },
    "colab": {
      "name": "Tutorial_MNIST.ipynb",
      "provenance": []
    }
  },
  "cells": [
    {
      "cell_type": "code",
      "metadata": {
        "id": "yJjna689Pkvh"
      },
      "source": [
        "import numpy as np\n",
        "import matplotlib.pyplot as plt\n",
        "from tensorflow.keras.datasets import mnist\n",
        "from tensorflow.keras.models import Model\n",
        "from tensorflow.keras.layers import Input, Dense, Dropout, Activation\n",
        "from tensorflow.keras.utils import to_categorical\n",
        "%matplotlib inline\n",
        "plt.rcParams['figure.figsize'] = (7,7) # Make the figures a bit bigger"
      ],
      "execution_count": 2,
      "outputs": []
    },
    {
      "cell_type": "markdown",
      "metadata": {
        "id": "fIX0t0gKPkvm"
      },
      "source": [
        "# Load MNIST data"
      ]
    },
    {
      "cell_type": "code",
      "metadata": {
        "colab": {
          "base_uri": "https://localhost:8080/"
        },
        "id": "6iSnwpoxPkvn",
        "outputId": "737b8093-0fd1-48a7-e9e7-353973e2ce10"
      },
      "source": [
        "nb_classes = 10 # number of different classes (10 digits)\n",
        "# the data, shuffled and splitted between train and test sets\n",
        "(X_train, y_train), (X_test, y_test) = mnist.load_data()\n",
        "print(\"X_train original shape\", X_train.shape)\n",
        "print(\"y_train original shape\", y_train.shape)"
      ],
      "execution_count": 3,
      "outputs": [
        {
          "output_type": "stream",
          "text": [
            "Downloading data from https://storage.googleapis.com/tensorflow/tf-keras-datasets/mnist.npz\n",
            "11493376/11490434 [==============================] - 0s 0us/step\n",
            "X_train original shape (60000, 28, 28)\n",
            "y_train original shape (60000,)\n"
          ],
          "name": "stdout"
        }
      ]
    },
    {
      "cell_type": "markdown",
      "metadata": {
        "id": "7P1bMK6OPkvn"
      },
      "source": [
        "Some examples of the training data"
      ]
    },
    {
      "cell_type": "code",
      "metadata": {
        "colab": {
          "base_uri": "https://localhost:8080/",
          "height": 427
        },
        "id": "gTZxiU6GPkvo",
        "outputId": "d86d8975-140b-474a-96e7-f2ecd91b3593"
      },
      "source": [
        "for i in range(9):\n",
        "    plt.subplot(3,3,i+1)\n",
        "    plt.axis('off')\n",
        "    plt.imshow(X_train[i], cmap='gray')\n",
        "    plt.title(\"Class {}\".format(y_train[i]))"
      ],
      "execution_count": 4,
      "outputs": [
        {
          "output_type": "display_data",
          "data": {
            "image/png": "[encoded data removed]",
            "text/plain": [
              "<Figure size 504x504 with 9 Axes>"
            ]
          },
          "metadata": {
            "tags": [],
            "needs_background": "light"
          }
        }
      ]
    },
    {
      "cell_type": "markdown",
      "metadata": {
        "id": "mhgUV_r5Pkvo"
      },
      "source": [
        "## Format the data for training\n",
        "Our neural-network is going to take a single vector for each training example, so we need to reshape the input so that each 28x28 image becomes a single 784 dimensional vector. We'll also scale the inputs to be in the range [0-1] rather than [0-255]"
      ]
    },
    {
      "cell_type": "code",
      "metadata": {
        "id": "dEvCqqkhPkvp"
      },
      "source": [
        "# here you need to reshape and scale inputs \n",
        "X_train = X_train.reshape(-1, 784).astype(np.float32)\n",
        "X_test = X_test.reshape(-1, 784).astype(np.float32)\n",
        "\n",
        "X_train /= 255.0\n",
        "X_test /= 255.0\n"
      ],
      "execution_count": 5,
      "outputs": []
    },
    {
      "cell_type": "code",
      "metadata": {
        "id": "ydXXYuCpPkvq"
      },
      "source": [
        "# sanity checks\n",
        "assert np.ndim(X_train) == np.ndim(X_test) == 2, 'invalid number of dimensions'\n",
        "assert X_train.shape[-1] == X_test.shape[-1] == 784, 'invalid number of features'"
      ],
      "execution_count": 6,
      "outputs": []
    },
    {
      "cell_type": "markdown",
      "metadata": {
        "id": "y39-DE58Pkvr"
      },
      "source": [
        "Modify the target matrices to be in the one-hot format, i.e.\n",
        "\n",
        "```\n",
        "0 -> [1, 0, 0, 0, 0, 0, 0, 0, 0]\n",
        "1 -> [0, 1, 0, 0, 0, 0, 0, 0, 0]\n",
        "2 -> [0, 0, 1, 0, 0, 0, 0, 0, 0]\n",
        "etc.\n",
        "```\n",
        "\n",
        "*hint*: use `to_categorical` function"
      ]
    },
    {
      "cell_type": "code",
      "metadata": {
        "id": "npASlUzAPkvr"
      },
      "source": [
        "y_train = to_categorical(y_train, nb_classes)\n",
        "y_test = to_categorical(y_test, nb_classes)\n"
      ],
      "execution_count": 7,
      "outputs": []
    },
    {
      "cell_type": "code",
      "metadata": {
        "id": "ldcXlMeDPkvs"
      },
      "source": [
        "# sanity checks\n",
        "assert y_train.shape[-1] == y_test.shape[-1] == 10, 'number of target features must be 10'\n",
        "assert np.array(list(map(lambda x: np.sum(x) == 1, y_train))).all(), 'you have done one hot encoding wrong ('"
      ],
      "execution_count": 8,
      "outputs": []
    },
    {
      "cell_type": "markdown",
      "metadata": {
        "id": "jEXDE3eAPkvs"
      },
      "source": [
        "# Build the neural network"
      ]
    },
    {
      "cell_type": "markdown",
      "metadata": {
        "id": "bgoaQCMAPkvt"
      },
      "source": [
        "* In the next cell you are supposed to implement your architecture of **Feed Forward Network**\n",
        "* Use the following Keras layers:\n",
        "    * `Input` - layer for the input node, [documentation](https://www.tensorflow.org/api_docs/python/tf/keras/layers/Input)\n",
        "    * `Dense` - fully connected layer $z=WX^T$ (activation can be included as param), [documentation](https://www.tensorflow.org/api_docs/python/tf/keras/layers/Dense)\n",
        "    * `Activation` - activation layer, [documentation](https://www.tensorflow.org/api_docs/python/tf/keras/layers/Activation)\n",
        "    * `Dropout` (optional) - dropout regularizer, [documentation](https://www.tensorflow.org/api_docs/python/tf/keras/layers/Dropout)\n",
        "    \n",
        "    \n",
        "* Make sure your last layer has `nb_classes` neurons and `softmax` activation which allows you to model probabilistic distribution over all classes \n",
        "\n",
        "\n",
        "Softmax activation:\n",
        "$$softmax(\\hat{y_i}) = \\frac{e^{\\hat{y_i}}}{\\sum_{i=1}^n e^\\hat{y_i}}$$\n",
        "where $\\hat{y_i}$ is *i*-th prediction and  $n$ is number of predictions"
      ]
    },
    {
      "cell_type": "code",
      "metadata": {
        "id": "DO8-8LviPkvt"
      },
      "source": [
        "input_shape = X_train.shape[1:] # batch dim is not included\n",
        "\n",
        "\n",
        "# < YOUR CODE FOR MODEL STARTS HERE >\n",
        "input_layer = Input(shape=input_shape)\n",
        "fc0 = Dense(64, activation='elu')(input_layer)\n",
        "dropout0 = Dropout(0.9)(fc0)\n",
        "fc1 = Dense(128, activation='relu')(dropout0)\n",
        "dropout1 = Dropout(0.7)(fc1)\n",
        "fc2 = Dense(32, activation='elu')(dropout1)\n",
        "output_layer = Dense(10, activation='softmax')(fc2)\n",
        "\n",
        "\n",
        "\n",
        "model = Model(inputs=input_layer, outputs=output_layer)\n",
        "# < YOUR CODE ENDS HERE >\n",
        "\n",
        "# let's compile the model\n",
        "model.compile(loss='categorical_crossentropy', optimizer='adam', metrics=['accuracy'])"
      ],
      "execution_count": 16,
      "outputs": []
    },
    {
      "cell_type": "markdown",
      "metadata": {
        "id": "uN9DU_68Pkvu"
      },
      "source": [
        "Let's take a look at your model's summary"
      ]
    },
    {
      "cell_type": "code",
      "metadata": {
        "colab": {
          "base_uri": "https://localhost:8080/"
        },
        "id": "fIrtNR7hPkvv",
        "outputId": "656633de-31dd-4e8c-9174-73694f37a6bc"
      },
      "source": [
        "model.summary()"
      ],
      "execution_count": 17,
      "outputs": [
        {
          "output_type": "stream",
          "text": [
            "Model: \"model_1\"\n",
            "_________________________________________________________________\n",
            "Layer (type)                 Output Shape              Param #   \n",
            "=================================================================\n",
            "input_2 (InputLayer)         [(None, 784)]             0         \n",
            "_________________________________________________________________\n",
            "dense_4 (Dense)              (None, 64)                50240     \n",
            "_________________________________________________________________\n",
            "dropout_2 (Dropout)          (None, 64)                0         \n",
            "_________________________________________________________________\n",
            "dense_5 (Dense)              (None, 128)               8320      \n",
            "_________________________________________________________________\n",
            "dropout_3 (Dropout)          (None, 128)               0         \n",
            "_________________________________________________________________\n",
            "dense_6 (Dense)              (None, 32)                4128      \n",
            "_________________________________________________________________\n",
            "dense_7 (Dense)              (None, 10)                330       \n",
            "=================================================================\n",
            "Total params: 63,018\n",
            "Trainable params: 63,018\n",
            "Non-trainable params: 0\n",
            "_________________________________________________________________\n"
          ],
          "name": "stdout"
        }
      ]
    },
    {
      "cell_type": "markdown",
      "metadata": {
        "id": "kP8MEOE2Pkvw"
      },
      "source": [
        "## Train the model!\n",
        "This is the fun part: you can feed the training data loaded in earlier into your model and it will learn to classify digits"
      ]
    },
    {
      "cell_type": "code",
      "metadata": {
        "scrolled": true,
        "colab": {
          "base_uri": "https://localhost:8080/"
        },
        "id": "s9WpTGYlPkvw",
        "outputId": "4548aa8f-2d90-4e86-d877-140918ddad77"
      },
      "source": [
        "training_info = model.fit(X_train, y_train,\n",
        "          batch_size=128, epochs=10, verbose=1,\n",
        "          validation_data=(X_test, y_test))"
      ],
      "execution_count": 18,
      "outputs": [
        {
          "output_type": "stream",
          "text": [
            "Epoch 1/10\n",
            "469/469 [==============================] - 3s 5ms/step - loss: 2.1289 - accuracy: 0.2428 - val_loss: 0.8738 - val_accuracy: 0.7646\n",
            "Epoch 2/10\n",
            "469/469 [==============================] - 2s 4ms/step - loss: 1.3618 - accuracy: 0.5044 - val_loss: 0.6698 - val_accuracy: 0.8229\n",
            "Epoch 3/10\n",
            "469/469 [==============================] - 2s 4ms/step - loss: 1.2121 - accuracy: 0.5660 - val_loss: 0.6048 - val_accuracy: 0.8310\n",
            "Epoch 4/10\n",
            "469/469 [==============================] - 2s 4ms/step - loss: 1.1269 - accuracy: 0.5980 - val_loss: 0.5490 - val_accuracy: 0.8519\n",
            "Epoch 5/10\n",
            "469/469 [==============================] - 2s 4ms/step - loss: 1.0878 - accuracy: 0.6086 - val_loss: 0.5257 - val_accuracy: 0.8467\n",
            "Epoch 6/10\n",
            "469/469 [==============================] - 2s 4ms/step - loss: 1.0429 - accuracy: 0.6270 - val_loss: 0.4983 - val_accuracy: 0.8564\n",
            "Epoch 7/10\n",
            "469/469 [==============================] - 2s 4ms/step - loss: 1.0077 - accuracy: 0.6422 - val_loss: 0.4760 - val_accuracy: 0.8685\n",
            "Epoch 8/10\n",
            "469/469 [==============================] - 2s 4ms/step - loss: 0.9792 - accuracy: 0.6500 - val_loss: 0.4745 - val_accuracy: 0.8561\n",
            "Epoch 9/10\n",
            "469/469 [==============================] - 2s 4ms/step - loss: 0.9771 - accuracy: 0.6523 - val_loss: 0.4579 - val_accuracy: 0.8653\n",
            "Epoch 10/10\n",
            "469/469 [==============================] - 2s 4ms/step - loss: 0.9624 - accuracy: 0.6593 - val_loss: 0.4535 - val_accuracy: 0.8656\n"
          ],
          "name": "stdout"
        }
      ]
    },
    {
      "cell_type": "code",
      "metadata": {
        "colab": {
          "base_uri": "https://localhost:8080/",
          "height": 759
        },
        "id": "3tg4_Ww3Pkvx",
        "outputId": "4a047022-d43d-4b3a-d141-0c9e229b4be4"
      },
      "source": [
        "# get history from training info\n",
        "hist_loss = training_info.history['loss']\n",
        "hist_val_loss = training_info.history['val_loss']\n",
        "hist_acc = training_info.history['accuracy']\n",
        "hist_val_acc = training_info.history['val_accuracy']\n",
        "\n",
        "# plot losses\n",
        "plt.figure(figsize=(8, 6))\n",
        "plt.xlabel('Epoch')\n",
        "plt.ylabel('Loss')\n",
        "plt.plot(hist_loss, color='red', label='train_loss')\n",
        "plt.plot(hist_val_loss, color='green', label='val_loss')\n",
        "plt.xlim(0, len(hist_loss) - 1)\n",
        "plt.legend(loc='best')\n",
        "plt.grid(True)\n",
        "plt.show()\n",
        "\n",
        "# plot metrics\n",
        "plt.figure(figsize=(8, 6))\n",
        "plt.xlabel('Epoch')\n",
        "plt.ylabel('Accuracy')\n",
        "plt.plot(hist_acc, color='orange', label='train_acc')\n",
        "plt.plot(hist_val_acc, color='purple', label='val_acc')\n",
        "plt.xlim(0, len(hist_acc) - 1)\n",
        "plt.legend(loc='best')\n",
        "plt.grid(True)\n",
        "plt.show()"
      ],
      "execution_count": 19,
      "outputs": [
        {
          "output_type": "display_data",
          "data": {
            "image/png": "[encoded data removed]",
            "text/plain": [
              "<Figure size 576x432 with 1 Axes>"
            ]
          },
          "metadata": {
            "tags": [],
            "needs_background": "light"
          }
        },
        {
          "output_type": "display_data",
          "data": {
            "image/png": "[encoded data removed]",
            "text/plain": [
              "<Figure size 576x432 with 1 Axes>"
            ]
          },
          "metadata": {
            "tags": [],
            "needs_background": "light"
          }
        }
      ]
    },
    {
      "cell_type": "markdown",
      "metadata": {
        "id": "XPpaAtShPkvy"
      },
      "source": [
        "## Finally, evaluate its performance"
      ]
    },
    {
      "cell_type": "code",
      "metadata": {
        "colab": {
          "base_uri": "https://localhost:8080/"
        },
        "id": "PgNaxEt7Pkvy",
        "outputId": "a5226803-93cd-4b6a-b5c1-28aba2d56e5f"
      },
      "source": [
        "train_acc = model.evaluate(X_train, y_train)[1]\n",
        "test_acc = model.evaluate(X_test, y_test)[1]\n",
        "\n",
        "print('Train accuracy:', train_acc)\n",
        "print('Test accuracy:', test_acc)"
      ],
      "execution_count": 20,
      "outputs": [
        {
          "output_type": "stream",
          "text": [
            "1875/1875 [==============================] - 3s 2ms/step - loss: 0.4550 - accuracy: 0.8695\n",
            "313/313 [==============================] - 0s 1ms/step - loss: 0.4535 - accuracy: 0.8656\n",
            "Train accuracy: 0.8694833517074585\n",
            "Test accuracy: 0.8655999898910522\n"
          ],
          "name": "stdout"
        }
      ]
    },
    {
      "cell_type": "markdown",
      "metadata": {
        "id": "7teLQw2CPkvz"
      },
      "source": [
        "### Inspecting the output\n",
        "\n",
        "It's always a good idea to inspect the output and make sure everything looks sane. Here we'll look at some examples it gets right, and some examples it gets wrong."
      ]
    },
    {
      "cell_type": "code",
      "metadata": {
        "id": "DEdsJEAjPkvz"
      },
      "source": [
        "# The predict_classes function outputs the highest probability class\n",
        "# according to the trained classifier for each input example.\n",
        "predicted_classes = np.argmax(model.predict(X_test), axis=1)\n",
        "\n",
        "# Check which items we got right / wrong\n",
        "correct_indices = np.nonzero(predicted_classes == np.argmax(y_test, axis=1))[0]\n",
        "incorrect_indices = np.nonzero(predicted_classes != np.argmax(y_test, axis=1))[0]"
      ],
      "execution_count": 21,
      "outputs": []
    },
    {
      "cell_type": "code",
      "metadata": {
        "colab": {
          "base_uri": "https://localhost:8080/",
          "height": 871
        },
        "id": "-857PpvPPkv0",
        "outputId": "38a1f16e-9e89-46e7-c4c1-d14357e12374"
      },
      "source": [
        "print('Sample correct predictions')\n",
        "plt.figure()\n",
        "for i, correct in enumerate(correct_indices[:9]):\n",
        "    plt.subplot(3,3,i+1)\n",
        "    plt.imshow(X_test[correct].reshape(28,28), cmap='gray')\n",
        "    plt.axis('off')\n",
        "    plt.title(\"Predicted {}, Class {}\".format(predicted_classes[correct], np.argmax(y_test[correct])))\n",
        "    \n",
        "plt.show()\n",
        "\n",
        "print('Sample wrong predictions')\n",
        "plt.figure()\n",
        "for i, incorrect in enumerate(incorrect_indices[:9]):\n",
        "    plt.subplot(3,3,i+1)\n",
        "    plt.imshow(X_test[incorrect].reshape(28,28), cmap='gray')\n",
        "    plt.axis('off')\n",
        "    plt.title(\"Predicted {}, Class {}\".format(predicted_classes[incorrect], np.argmax(y_test[incorrect])))\n",
        "    \n",
        "plt.show()"
      ],
      "execution_count": 22,
      "outputs": [
        {
          "output_type": "stream",
          "text": [
            "Sample correct predictions\n"
          ],
          "name": "stdout"
        },
        {
          "output_type": "display_data",
          "data": {
            "image/png": "[encoded data removed]",
            "text/plain": [
              "<Figure size 504x504 with 9 Axes>"
            ]
          },
          "metadata": {
            "tags": [],
            "needs_background": "light"
          }
        },
        {
          "output_type": "stream",
          "text": [
            "Sample wrong predictions\n"
          ],
          "name": "stdout"
        },
        {
          "output_type": "display_data",
          "data": {
            "image/png": "[encoded data removed]",
            "text/plain": [
              "<Figure size 504x504 with 9 Axes>"
            ]
          },
          "metadata": {
            "tags": [],
            "needs_background": "light"
          }
        }
      ]
    },
    {
      "cell_type": "markdown",
      "metadata": {
        "id": "YKGLCTfEPkv0"
      },
      "source": [
        "# That's all!\n",
        "\n",
        "This tutorial is extended version of Xavier Snelgrove tutorial"
      ]
    }
  ]
}